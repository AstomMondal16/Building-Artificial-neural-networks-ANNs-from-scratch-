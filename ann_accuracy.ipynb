{
  "cells": [
    {
      "cell_type": "code",
      "execution_count": null,
      "id": "3bf1a217-15c6-49ad-bd95-839b17012d26",
      "metadata": {
        "tags": [],
        "id": "3bf1a217-15c6-49ad-bd95-839b17012d26"
      },
      "outputs": [],
      "source": [
        "#import libraries\n",
        "import numpy as np\n",
        "import pandas as pd\n",
        "import warnings\n",
        "\n",
        "#ignore the warninigs\n",
        "warnings.filterwarnings('ignore')\n"
      ]
    },
    {
      "cell_type": "code",
      "source": [
        "#load csv file\n",
        "data = pd.read_csv('kidney-stone-dataset.csv')\n",
        "data.isna().any()"
      ],
      "metadata": {
        "colab": {
          "base_uri": "https://localhost:8080/"
        },
        "id": "VuJlMvaY8xTi",
        "outputId": "b28b26a2-57bf-4e5e-a9e1-da70ae1b8a52"
      },
      "id": "VuJlMvaY8xTi",
      "execution_count": null,
      "outputs": [
        {
          "output_type": "execute_result",
          "data": {
            "text/plain": [
              "Unnamed: 0    False\n",
              "gravity       False\n",
              "ph            False\n",
              "osmo          False\n",
              "cond          False\n",
              "urea          False\n",
              "calc          False\n",
              "target        False\n",
              "dtype: bool"
            ]
          },
          "metadata": {},
          "execution_count": 2
        }
      ]
    },
    {
      "cell_type": "code",
      "execution_count": null,
      "id": "e7a5a6da-635d-4b84-9105-929fa1fc757a",
      "metadata": {
        "tags": [],
        "id": "e7a5a6da-635d-4b84-9105-929fa1fc757a"
      },
      "outputs": [],
      "source": [
        "X = data.drop(['Unnamed: 0'], axis=1)\n",
        "y = data['target']\n",
        "\n",
        "class NeuralNetwork:\n",
        "    def __init__(self):\n",
        "        np.random.seed(1)\n",
        "        self.weights = {}\n",
        "        self.biases = {}\n",
        "\n",
        "    def add_layer(self, input_size, output_size):\n",
        "        self.weights[input_size, output_size] = np.random.randn(input_size, output_size)\n",
        "        self.biases[output_size] = np.zeros((1, output_size))\n",
        "\n",
        "    def sigmoid(self, x):\n",
        "        return 1 / (1 + np.exp(-x))\n",
        "\n",
        "    def sigmoid_derivative(self, x):\n",
        "        return x * (1 - x)\n",
        "\n",
        "\n",
        "\n",
        "#######forward proporgation#########\n",
        "\n",
        "    def forward_propagation(self, X):\n",
        "        self.layer_outputs = []\n",
        "        self.activations = []\n",
        "        self.activations.append(X)\n",
        "\n",
        "        for i in range(len(self.weights)):\n",
        "            weighted_sum = np.dot(self.activations[i],\n",
        "                                  self.weights[list(self.weights.keys())[i]]) + self.biases[list(self.biases.keys())[i]]\n",
        "            activation = self.sigmoid(weighted_sum)\n",
        "            self.layer_outputs.append(weighted_sum)\n",
        "            self.activations.append(activation)\n",
        "\n",
        "        return self.activations[-1]\n",
        "\n",
        "\n",
        "######backward propogation######\n",
        "\n",
        "    def backward_propagation(self, y_true, output):\n",
        "        deltas = [output - y_true]\n",
        "        for i in range(len(self.weights)-1, 0, -1):\n",
        "            delta = np.dot(deltas[-1],\n",
        "                           self.weights[list(self.weights.keys())[i]].T) * self.sigmoid_derivative(self.activations[i])\n",
        "            deltas.append(delta)\n",
        "        deltas.reverse()\n",
        "\n",
        "        self.weight_gradients = {}\n",
        "        self.bias_gradients = {}\n",
        "\n",
        "        for i in range(len(self.weights)):\n",
        "            self.weight_gradients[list(self.weights.keys())[i]] = np.dot(self.activations[i].T, deltas[i])\n",
        "            self.bias_gradients[list(self.biases.keys())[i]] = np.sum(deltas[i], axis=0, keepdims=True)\n",
        "\n",
        "    def update_weights(self, learning_rate):\n",
        "        for i in range(len(self.weights)):\n",
        "            self.weights[list(self.weights.keys())[i]] -= learning_rate * self.weight_gradients[list(self.weights.keys())[i]]\n",
        "            self.biases[list(self.biases.keys())[i]] -= learning_rate * self.bias_gradients[list(self.biases.keys())[i]]\n",
        "\n",
        "\n",
        "# Split data into training and testing sets\n",
        "from sklearn.model_selection import train_test_split\n",
        "X_train, X_test, y_train, y_test = train_test_split(X, y, test_size=0.2)\n",
        "\n",
        "# Initialize neural network\n",
        "model = NeuralNetwork()\n",
        "\n",
        "# Add layers\n",
        "model.add_layer(X_train.shape[1], 16)\n",
        "model.add_layer(16, 8)\n",
        "model.add_layer(8, 1)\n",
        "\n",
        "# Train the model\n",
        "epochs = 500\n",
        "learning_rate = 0.01\n",
        "for epoch in range(epochs):\n",
        "    # Forward propagation\n",
        "    output = model.forward_propagation(X_train)\n",
        "\n",
        "    # Backward propagation\n",
        "    model.backward_propagation(y_train.values.reshape(-1, 1), output)\n",
        "\n",
        "    # Update weights\n",
        "    model.update_weights(learning_rate)\n",
        "\n",
        "\n",
        "# Forward propagation on test data\n",
        "predictions = model.forward_propagation(X_test)\n",
        "\n",
        "# Threshold predictions (0.5 for binary classification)\n",
        "threshold = 0.2\n",
        "binary_predictions = (predictions > threshold).astype(int)\n",
        "\n",
        "\n"
      ]
    },
    {
      "cell_type": "code",
      "execution_count": null,
      "id": "20e8f8d3-c3a0-486a-8ee6-3c94c345e5a0",
      "metadata": {
        "tags": [],
        "colab": {
          "base_uri": "https://localhost:8080/"
        },
        "id": "20e8f8d3-c3a0-486a-8ee6-3c94c345e5a0",
        "outputId": "fb6dec65-40e9-4dcc-8a0c-92a7ec44a7bf"
      },
      "outputs": [
        {
          "output_type": "stream",
          "name": "stdout",
          "text": [
            "Accuracy: 0.5\n"
          ]
        }
      ],
      "source": [
        "#predict accuracy\n",
        "accuracy = np.mean(binary_predictions == y_test.values.reshape(-1, 1))\n",
        "print(\"Accuracy:\", accuracy)"
      ]
    },
    {
      "cell_type": "code",
      "source": [],
      "metadata": {
        "id": "IFLeYcBh9WUH"
      },
      "id": "IFLeYcBh9WUH",
      "execution_count": null,
      "outputs": []
    }
  ],
  "metadata": {
    "kernelspec": {
      "display_name": "Python 3 (ipykernel)",
      "language": "python",
      "name": "python3"
    },
    "language_info": {
      "codemirror_mode": {
        "name": "ipython",
        "version": 3
      },
      "file_extension": ".py",
      "mimetype": "text/x-python",
      "name": "python",
      "nbconvert_exporter": "python",
      "pygments_lexer": "ipython3",
      "version": "3.11.5"
    },
    "colab": {
      "provenance": []
    }
  },
  "nbformat": 4,
  "nbformat_minor": 5
}